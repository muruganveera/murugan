{
  "nbformat": 4,
  "nbformat_minor": 0,
  "metadata": {
    "colab": {
      "name": "QlearningwithGYM.ipynb",
      "provenance": [],
      "include_colab_link": true
    },
    "kernelspec": {
      "name": "python3",
      "display_name": "Python 3"
    },
    "language_info": {
      "name": "python"
    }
  },
  "cells": [
    {
      "cell_type": "markdown",
      "metadata": {
        "id": "view-in-github",
        "colab_type": "text"
      },
      "source": [
        "<a href=\"https://colab.research.google.com/github/muruganveera/murugan/blob/master/QlearningwithGYM.ipynb\" target=\"_parent\"><img src=\"https://colab.research.google.com/assets/colab-badge.svg\" alt=\"Open In Colab\"/></a>"
      ]
    },
    {
      "cell_type": "code",
      "metadata": {
        "id": "XzDlDL_QoO8T"
      },
      "source": [
        "import gym\n",
        "import random\n",
        "import numpy as np\n",
        "import time\n",
        "from gym.envs.registration import register\n",
        "from IPython.display import clear_output"
      ],
      "execution_count": 5,
      "outputs": []
    },
    {
      "cell_type": "code",
      "metadata": {
        "colab": {
          "base_uri": "https://localhost:8080/"
        },
        "id": "1BbqVf5Ao9T-",
        "outputId": "052b3449-22c7-4f28-de5f-93fc5a02afa1"
      },
      "source": [
        "# https://github.com/openai/gym/blob/master/gym/envs/toy_text/frozen_lake.py\n",
        "# https://github.com/openai/gym/blob/master/gym/envs/__init__.py\n",
        "try:\n",
        "    register(\n",
        "        id='FrozenLakeNoSlip-v0',\n",
        "        entry_point='gym.envs.toy_text:FrozenLakeEnv',\n",
        "        kwargs={'map_name' : '4x4', 'is_slippery':False},\n",
        "        max_episode_steps=100,\n",
        "        reward_threshold=0.78, # optimum = .8196\n",
        "    )\n",
        "except:\n",
        "    pass\n",
        "\n",
        "# env_name = \"CartPole-v1\"\n",
        "# env_name = \"MountainCar-v0\"\n",
        "# env_name = \"MountainCarContinuous-v0\"\n",
        "# env_name = \"Acrobot-v1\"\n",
        "# env_name = \"Pendulum-v0\"\n",
        "#env_name = \"FrozenLake-v0\"\n",
        "env_name = \"FrozenLakeNoSlip-v0\"\n",
        "env = gym.make(env_name)\n",
        "print(\"Observation space:\", env.observation_space)\n",
        "print(\"Action space:\", env.action_space)\n",
        "type(env.action_space)"
      ],
      "execution_count": 6,
      "outputs": [
        {
          "output_type": "stream",
          "name": "stdout",
          "text": [
            "Observation space: Discrete(16)\n",
            "Action space: Discrete(4)\n"
          ]
        },
        {
          "output_type": "execute_result",
          "data": {
            "text/plain": [
              "gym.spaces.discrete.Discrete"
            ]
          },
          "metadata": {},
          "execution_count": 6
        }
      ]
    },
    {
      "cell_type": "code",
      "metadata": {
        "id": "J0SSEMDFqavZ"
      },
      "source": [
        "class Agent():\n",
        "    def __init__(self, env):\n",
        "        self.is_discrete = \\\n",
        "            type(env.action_space) == gym.spaces.discrete.Discrete\n",
        "        \n",
        "        if self.is_discrete:\n",
        "            self.action_size = env.action_space.n\n",
        "            print(\"Action size:\", self.action_size)\n",
        "        else:\n",
        "            self.action_low = env.action_space.low\n",
        "            self.action_high = env.action_space.high\n",
        "            self.action_shape = env.action_space.shape\n",
        "            print(\"Action range:\", self.action_low, self.action_high)\n",
        "        \n",
        "    def get_action(self, state):\n",
        "        if self.is_discrete:\n",
        "            action = random.choice(range(self.action_size))\n",
        "        else:\n",
        "            action = np.random.uniform(self.action_low,\n",
        "                                       self.action_high,\n",
        "                                       self.action_shape)\n",
        "        return action"
      ],
      "execution_count": 7,
      "outputs": []
    },
    {
      "cell_type": "code",
      "metadata": {
        "colab": {
          "base_uri": "https://localhost:8080/"
        },
        "id": "02uOptUiqhpM",
        "outputId": "04d21da6-ff84-4074-b550-bca663cd6caf"
      },
      "source": [
        "class QAgent(Agent):\n",
        "    def __init__(self, env, discount_rate=0.97, learning_rate=0.01):\n",
        "        super().__init__(env)\n",
        "        self.state_size = env.observation_space.n\n",
        "        print(\"State size:\", self.state_size)\n",
        "        \n",
        "        self.eps = 1.0\n",
        "        self.discount_rate = discount_rate\n",
        "        self.learning_rate = learning_rate\n",
        "        self.build_model()\n",
        "        \n",
        "    def build_model(self):\n",
        "        self.q_table = 1e-4*np.random.random([self.state_size, self.action_size])\n",
        "        \n",
        "    def get_action(self, state):\n",
        "        q_state = self.q_table[state]\n",
        "        action_greedy = np.argmax(q_state)\n",
        "        action_random = super().get_action(state)\n",
        "        return action_random if random.random() < self.eps else action_greedy\n",
        "    \n",
        "    def train(self, experience):\n",
        "        state, action, next_state, reward, done = experience\n",
        "        \n",
        "        q_next = self.q_table[next_state]\n",
        "        q_next = np.zeros([self.action_size]) if done else q_next\n",
        "        q_target = reward + self.discount_rate * np.max(q_next)\n",
        "        \n",
        "        q_update = q_target - self.q_table[state,action]\n",
        "        self.q_table[state,action] += self.learning_rate * q_update\n",
        "        \n",
        "        if done:\n",
        "            self.eps = self.eps * 0.99\n",
        "        \n",
        "agent = QAgent(env)"
      ],
      "execution_count": 8,
      "outputs": [
        {
          "output_type": "stream",
          "name": "stdout",
          "text": [
            "Action size: 4\n",
            "State size: 16\n"
          ]
        }
      ]
    },
    {
      "cell_type": "code",
      "metadata": {
        "colab": {
          "base_uri": "https://localhost:8080/"
        },
        "id": "9dRNUuqEqnNU",
        "outputId": "10e342f5-3db7-4296-c10b-0b7a541c7694"
      },
      "source": [
        "total_reward = 0\n",
        "for ep in range(100):\n",
        "    state = env.reset()\n",
        "    done = False\n",
        "    while not done:\n",
        "        action = agent.get_action(state)\n",
        "        next_state, reward, done, info = env.step(action)\n",
        "        agent.train((state,action,next_state,reward,done))\n",
        "        state = next_state\n",
        "        total_reward += reward\n",
        "        \n",
        "        print(\"s:\", state, \"a:\", action)\n",
        "        print(\"Episode: {}, Total reward: {}, eps: {}\".format(ep,total_reward,agent.eps))\n",
        "        env.render()\n",
        "        print(agent.q_table)\n",
        "        time.sleep(0.05)\n",
        "        clear_output(wait=True)"
      ],
      "execution_count": 9,
      "outputs": [
        {
          "output_type": "stream",
          "name": "stdout",
          "text": [
            "s: 5 a: 1\n",
            "Episode: 99, Total reward: 0.0, eps: 0.36603234127322926\n",
            "  (Down)\n",
            "SFFF\n",
            "F\u001b[41mH\u001b[0mFH\n",
            "FFFH\n",
            "HFFG\n",
            "[[4.07830916e-05 7.67073290e-05 8.57780122e-05 6.66121061e-05]\n",
            " [5.20315111e-05 5.62792061e-05 2.64540486e-05 8.38917482e-05]\n",
            " [4.84968426e-05 5.71113845e-05 6.79399505e-05 4.00277610e-05]\n",
            " [1.65596387e-05 7.09467288e-05 8.46791878e-05 8.46813652e-05]\n",
            " [8.81553672e-05 2.68931065e-05 7.00393231e-05 7.53168932e-05]\n",
            " [6.27793455e-05 7.60596995e-05 2.97985422e-05 4.62278116e-05]\n",
            " [3.91714702e-05 7.70666323e-05 7.01519312e-05 1.28989482e-05]\n",
            " [2.83869050e-05 3.53204691e-05 5.59743288e-05 8.33755307e-05]\n",
            " [8.67312275e-05 2.44325831e-05 7.28803417e-05 5.64120272e-05]\n",
            " [2.53005102e-05 2.97251140e-07 2.45986699e-05 4.21675390e-05]\n",
            " [4.83991500e-05 6.69690546e-05 3.33390437e-05 8.76219581e-05]\n",
            " [9.60324673e-05 2.99625857e-05 9.32428286e-05 1.36269073e-05]\n",
            " [3.50771524e-05 8.37190413e-05 6.04705778e-05 9.85933124e-05]\n",
            " [9.32220194e-05 1.61290819e-05 5.39515479e-05 1.03531448e-05]\n",
            " [9.08890415e-05 3.54380517e-05 4.71996429e-06 4.28028807e-05]\n",
            " [9.14815304e-05 3.89672564e-05 4.79761905e-05 3.75119404e-05]]\n"
          ]
        }
      ]
    },
    {
      "cell_type": "code",
      "metadata": {
        "id": "T1ec8V0Inq5u"
      },
      "source": [
        ""
      ],
      "execution_count": 9,
      "outputs": []
    }
  ]
}