{
  "cells": [
    {
      "cell_type": "markdown",
      "metadata": {
        "id": "view-in-github",
        "colab_type": "text"
      },
      "source": [
        "<a href=\"https://colab.research.google.com/github/muruganveera/murugan/blob/master/Copy_of_LSTM_Github.ipynb\" target=\"_parent\"><img src=\"https://colab.research.google.com/assets/colab-badge.svg\" alt=\"Open In Colab\"/></a>"
      ]
    },
    {
      "cell_type": "code",
      "source": [
        "from scipy.io import loadmat\n",
        "from google.colab import drive\n",
        "drive.mount('/content/drive')\n",
        "B0005=loadmat('/content/drive/MyDrive/B0005.mat')"
      ],
      "metadata": {
        "colab": {
          "base_uri": "https://localhost:8080/"
        },
        "id": "aazu79ZLOPxn",
        "outputId": "089d8109-834a-468c-9ce3-a270cf21b0ed"
      },
      "execution_count": null,
      "outputs": [
        {
          "output_type": "stream",
          "name": "stdout",
          "text": [
            "Drive already mounted at /content/drive; to attempt to forcibly remount, call drive.mount(\"/content/drive\", force_remount=True).\n"
          ]
        }
      ]
    },
    {
      "cell_type": "code",
      "source": [
        "from google.colab import drive\n",
        "drive.mount('/content/drive')"
      ],
      "metadata": {
        "colab": {
          "base_uri": "https://localhost:8080/"
        },
        "id": "scWuLkDEPPGJ",
        "outputId": "f0eecb1f-3f5e-4440-888c-3159d4cc9d51"
      },
      "execution_count": null,
      "outputs": [
        {
          "output_type": "stream",
          "name": "stdout",
          "text": [
            "Mounted at /content/drive\n"
          ]
        }
      ]
    },
    {
      "cell_type": "code",
      "source": [
        "from google.colab import drive\n",
        "  import os\n",
        "  drive.mount('/content/drive')"
      ],
      "metadata": {
        "id": "Ov_YG_eCOSa8"
      },
      "execution_count": null,
      "outputs": []
    },
    {
      "cell_type": "code",
      "source": [
        "pip install scipy"
      ],
      "metadata": {
        "colab": {
          "base_uri": "https://localhost:8080/"
        },
        "id": "__HQncwQF0LE",
        "outputId": "a6064326-21ca-419c-c8e8-52b7ee05366a"
      },
      "execution_count": null,
      "outputs": [
        {
          "output_type": "stream",
          "name": "stdout",
          "text": [
            "Requirement already satisfied: scipy in /usr/local/lib/python3.10/dist-packages (1.10.1)\n",
            "Requirement already satisfied: numpy<1.27.0,>=1.19.5 in /usr/local/lib/python3.10/dist-packages (from scipy) (1.23.5)\n"
          ]
        }
      ]
    },
    {
      "cell_type": "code",
      "execution_count": null,
      "metadata": {
        "id": "g7F6vrff6sQQ"
      },
      "outputs": [],
      "source": [
        "import numpy as np\n",
        "\"from mat2json import loadMat\"\n",
        "from keras.models import Sequential\n",
        "from keras.layers import Dense\n",
        "import keras\n",
        "from keras.layers import Dense, Dropout, Flatten\n",
        "from keras.layers import LeakyReLU\n",
        "from keras.layers import LSTM\n",
        "from keras.callbacks import EarlyStopping\n",
        "from sklearn.preprocessing import MinMaxScaler\n",
        "import matplotlib.pyplot as plt"
      ]
    },
    {
      "cell_type": "code",
      "execution_count": null,
      "metadata": {
        "id": "HDfzQmod6sQT"
      },
      "outputs": [],
      "source": [
        "def extract_discharge(Battery):\n",
        "\n",
        "    cap = []\n",
        "    i = 1\n",
        "    for Bat in Battery:\n",
        "        if Bat['cycle'] == 'discharge':\n",
        "            cap.append((Bat['data']['Capacity'][0]))\n",
        "            i+=1\n",
        "    return cap"
      ]
    },
    {
      "cell_type": "code",
      "source": [
        "def extract_charge_VIT(Battery):\n",
        "\n",
        "    cap = []\n",
        "    i = 1\n",
        "    for Bat in Battery:\n",
        "        if Bat['cycle'] == 'charge':\n",
        "            cap.append((Bat['data']['Capacity'][0]))\n",
        "            i+=1\n",
        "    return cap"
      ],
      "metadata": {
        "id": "ZDijCE6PPp4O"
      },
      "execution_count": null,
      "outputs": []
    },
    {
      "cell_type": "code",
      "execution_count": null,
      "metadata": {
        "id": "E2OcdXC16sQT"
      },
      "outputs": [],
      "source": [
        "A = extract_charge_VIT(B0005)\n",
        "#print(A)\n",
        "InitC = 1.85;\n",
        "cap5 = extract_discharge(B0005);"
      ]
    },
    {
      "cell_type": "code",
      "execution_count": null,
      "metadata": {
        "id": "ohPFeFV36sQT",
        "colab": {
          "base_uri": "https://localhost:8080/",
          "height": 210
        },
        "outputId": "c24d6240-8f21-43ad-f1ef-143eada5e399"
      },
      "outputs": [
        {
          "output_type": "error",
          "ename": "NameError",
          "evalue": "ignored",
          "traceback": [
            "\u001b[0;31m---------------------------------------------------------------------------\u001b[0m",
            "\u001b[0;31mNameError\u001b[0m                                 Traceback (most recent call last)",
            "\u001b[0;32m<ipython-input-11-8bf36955bdd3>\u001b[0m in \u001b[0;36m<cell line: 1>\u001b[0;34m()\u001b[0m\n\u001b[0;32m----> 1\u001b[0;31m \u001b[0mxData_raw\u001b[0m \u001b[0;34m=\u001b[0m \u001b[0mA\u001b[0m\u001b[0;34m\u001b[0m\u001b[0;34m\u001b[0m\u001b[0m\n\u001b[0m\u001b[1;32m      2\u001b[0m \u001b[0mcomp\u001b[0m \u001b[0;34m=\u001b[0m \u001b[0mlen\u001b[0m\u001b[0;34m(\u001b[0m\u001b[0mA\u001b[0m\u001b[0;34m)\u001b[0m \u001b[0;34m-\u001b[0m \u001b[0mlen\u001b[0m\u001b[0;34m(\u001b[0m\u001b[0mcap5\u001b[0m\u001b[0;34m)\u001b[0m\u001b[0;34m;\u001b[0m\u001b[0;34m\u001b[0m\u001b[0;34m\u001b[0m\u001b[0m\n\u001b[1;32m      3\u001b[0m \u001b[0myData_raw\u001b[0m \u001b[0;34m=\u001b[0m \u001b[0mnp\u001b[0m\u001b[0;34m.\u001b[0m\u001b[0mvstack\u001b[0m\u001b[0;34m(\u001b[0m\u001b[0;34m(\u001b[0m\u001b[0mInitC\u001b[0m\u001b[0;34m*\u001b[0m\u001b[0mnp\u001b[0m\u001b[0;34m.\u001b[0m\u001b[0mones\u001b[0m\u001b[0;34m(\u001b[0m\u001b[0;34m(\u001b[0m\u001b[0mcomp\u001b[0m\u001b[0;34m,\u001b[0m \u001b[0;36m1\u001b[0m\u001b[0;34m)\u001b[0m\u001b[0;34m)\u001b[0m\u001b[0;34m,\u001b[0m \u001b[0mnp\u001b[0m\u001b[0;34m.\u001b[0m\u001b[0mreshape\u001b[0m\u001b[0;34m(\u001b[0m\u001b[0mcap5\u001b[0m\u001b[0;34m,\u001b[0m \u001b[0;34m(\u001b[0m\u001b[0mlen\u001b[0m\u001b[0;34m(\u001b[0m\u001b[0mcap5\u001b[0m\u001b[0;34m)\u001b[0m\u001b[0;34m,\u001b[0m \u001b[0;36m1\u001b[0m\u001b[0;34m)\u001b[0m\u001b[0;34m)\u001b[0m\u001b[0;34m)\u001b[0m\u001b[0;34m)\u001b[0m\u001b[0;34m\u001b[0m\u001b[0;34m\u001b[0m\u001b[0m\n",
            "\u001b[0;31mNameError\u001b[0m: name 'A' is not defined"
          ]
        }
      ],
      "source": [
        "xData_raw = A\n",
        "comp = len(A) - len(cap5);\n",
        "yData_raw = np.vstack((InitC*np.ones((comp, 1)), np.reshape(cap5, (len(cap5), 1))))"
      ]
    },
    {
      "cell_type": "code",
      "execution_count": null,
      "metadata": {
        "id": "2fGGrR0c6sQU"
      },
      "outputs": [],
      "source": [
        "xminmax = MinMaxScaler(feature_range=(0, 1)) # xData_raw feature scaling\n",
        "xData = xminmax.fit_transform(xData_raw) # feature scaling of xData_raw\n",
        "#print(xData)\n",
        "yminmax = MinMaxScaler(feature_range=(0, 1)) # yData_raw feature scaling\n",
        "yData = yminmax.fit_transform(yData_raw) # feature scaling of yData_raw\n",
        "#print(yData)"
      ]
    },
    {
      "cell_type": "code",
      "execution_count": null,
      "metadata": {
        "id": "ammesELS6sQU"
      },
      "outputs": [],
      "source": [
        "# split the data into train and test\n",
        "X_train, X_test, y_train, y_test = train_test_split(xData, yData, test_size = 0.20,shuffle = False)# split the data into train and test"
      ]
    },
    {
      "cell_type": "code",
      "execution_count": null,
      "metadata": {
        "id": "XkFG73WB6sQU"
      },
      "outputs": [],
      "source": [
        "model = Sequential()\n",
        "model.add(LSTM(50, input_shape=(X_train.shape[1], X_train.shape[2])))\n",
        "model.add(Dropout(0.2))\n",
        "model.add(Dense(1))\n",
        "model.compile(loss='mean_squared_error', optimizer='adam')\n",
        "\n",
        "history = model.fit(X_train, y_train, epochs=200, batch_size=32, validation_data=(X_test, y_test),\n",
        "                    callbacks=[EarlyStopping(monitor='val_loss', patience=10)], verbose=1, shuffle=False)\n",
        "\n",
        "# Training Phase\n",
        "model.summary()"
      ]
    },
    {
      "cell_type": "code",
      "execution_count": null,
      "metadata": {
        "id": "iGyCH3VZ6sQW"
      },
      "outputs": [],
      "source": [
        "#Predicting network output\n",
        "y_predict = model.predict(X_test) # predictions on test data"
      ]
    },
    {
      "cell_type": "code",
      "execution_count": null,
      "metadata": {
        "id": "bcRA4K8P6sQW"
      },
      "outputs": [],
      "source": [
        "# calculate the prediction error\n",
        "mape = np.sum(abs(y_test[:,0]- y_predict))/np.size(y_test)\n",
        "print(mape)"
      ]
    },
    {
      "cell_type": "code",
      "execution_count": null,
      "metadata": {
        "id": "POeggot16sQX"
      },
      "outputs": [],
      "source": [
        "y_predict_actual = yminmax.inverse_transform(y_predict.reshape(-1,1)) # get the original a"
      ]
    },
    {
      "cell_type": "code",
      "execution_count": null,
      "metadata": {
        "id": "Y4Eg8rzD6sQX"
      },
      "outputs": [],
      "source": [
        "y_test_actual = yminmax.inverse_transform(y_test[:,0].reshape(-1,1)) # get the original"
      ]
    },
    {
      "cell_type": "code",
      "execution_count": null,
      "metadata": {
        "id": "gA9F3F9X6sQX"
      },
      "outputs": [],
      "source": [
        "plt.plot(y_predict_actual)"
      ]
    },
    {
      "cell_type": "code",
      "execution_count": null,
      "metadata": {
        "id": "ot3GBMEz6sQY"
      },
      "outputs": [],
      "source": [
        "plt.plot(y_test_actual)"
      ]
    },
    {
      "cell_type": "code",
      "execution_count": null,
      "metadata": {
        "id": "MKtK2py06sQY"
      },
      "outputs": [],
      "source": [
        "fig, ax = plt.subplots(1, figsize=(12, 8))\n",
        "ax.plot(np.arange(57), 1.4*np.ones((57, 1)),'k--',linewidth = 2)\n",
        "ax.plot(y_predict_actual, color='black',label='Predicted Capacity')\n",
        "ax.plot(y_test_actual, color='red',label='Actual Capacity')\n",
        "ax.set(xlabel='Discharge Cycles', ylabel='Capacity(Ah)')\n",
        "ax.set_xlim([0,57])\n",
        "#ax.set_ylim([0,2])\n",
        "ax.legend()\n",
        "ax.set(title = 'LSTM')"
      ]
    },
    {
      "cell_type": "code",
      "execution_count": null,
      "metadata": {
        "id": "NfmOXk7T6sQY"
      },
      "outputs": [],
      "source": [
        "plt.figure(figsize=(8,4))\n",
        "plt.plot(history.history['loss'], label='Train Loss')\n",
        "plt.plot(history.history['val_loss'], label='Test Loss')\n",
        "plt.title('model loss')\n",
        "plt.ylabel('loss')\n",
        "plt.xlabel('epochs')\n",
        "plt.legend(loc='upper right')\n",
        "plt.show();"
      ]
    },
    {
      "cell_type": "code",
      "execution_count": null,
      "metadata": {
        "id": "LHNq3zKA6sQZ"
      },
      "outputs": [],
      "source": []
    }
  ],
  "metadata": {
    "kernelspec": {
      "display_name": "Python 3",
      "language": "python",
      "name": "python3"
    },
    "language_info": {
      "codemirror_mode": {
        "name": "ipython",
        "version": 3
      },
      "file_extension": ".py",
      "mimetype": "text/x-python",
      "name": "python",
      "nbconvert_exporter": "python",
      "pygments_lexer": "ipython3",
      "version": "3.7.4"
    },
    "colab": {
      "provenance": [],
      "include_colab_link": true
    }
  },
  "nbformat": 4,
  "nbformat_minor": 0
}